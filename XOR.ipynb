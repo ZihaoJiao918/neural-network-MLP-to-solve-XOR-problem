{
  "nbformat": 4,
  "nbformat_minor": 0,
  "metadata": {
    "colab": {
      "name": "XOR.ipynb",
      "provenance": []
    },
    "kernelspec": {
      "display_name": "Python 3",
      "language": "python",
      "name": "python3"
    },
    "language_info": {
      "codemirror_mode": {
        "name": "ipython",
        "version": 3
      },
      "file_extension": ".py",
      "mimetype": "text/x-python",
      "name": "python",
      "nbconvert_exporter": "python",
      "pygments_lexer": "ipython3",
      "version": "3.5.2"
    }
  },
  "cells": [
    {
      "cell_type": "code",
      "metadata": {
        "colab_type": "code",
        "id": "WIzQPjfXv3V2",
        "colab": {}
      },
      "source": [
        "import numpy as np\n",
        "import matplotlib.pyplot as plt\n",
        "from scipy.special import expit as sigmoid"
      ],
      "execution_count": 0,
      "outputs": []
    },
    {
      "cell_type": "code",
      "metadata": {
        "colab_type": "code",
        "id": "UDUTx0E9wD8F",
        "colab": {}
      },
      "source": [
        "#data\n",
        "x=np.array([[0, 0], [0,1], [1,0], [1,1]])\n",
        "#label\n",
        "y=np.array([0, 1, 1, 0])"
      ],
      "execution_count": 0,
      "outputs": []
    },
    {
      "cell_type": "code",
      "metadata": {
        "colab_type": "code",
        "id": "ocPS66hg1to7",
        "outputId": "c2243c6e-d664-4964-cea5-e557fff777d2",
        "colab": {
          "base_uri": "https://localhost:8080/",
          "height": 34
        }
      },
      "source": [
        "x.shape"
      ],
      "execution_count": 3,
      "outputs": [
        {
          "output_type": "execute_result",
          "data": {
            "text/plain": [
              "(4, 2)"
            ]
          },
          "metadata": {
            "tags": []
          },
          "execution_count": 3
        }
      ]
    },
    {
      "cell_type": "code",
      "metadata": {
        "colab_type": "code",
        "id": "vwvYEUlwx3Pd",
        "colab": {}
      },
      "source": [
        "params = {}\n",
        "np.random.seed(2)\n",
        "params['w_1'] = np.random.rand(2, 2)\n",
        "params['b_1'] = np.zeros(2)\n",
        "\n",
        "params['w_2'] = np.random.rand(2)\n",
        "params['b_2'] = 0"
      ],
      "execution_count": 0,
      "outputs": []
    },
    {
      "cell_type": "code",
      "metadata": {
        "id": "UdKaNE_UWl53",
        "colab_type": "code",
        "colab": {}
      },
      "source": [
        "#params = {'b_1': np.array([0., 0.]), 'b_2': 0, 'w_1': np.array([[-0.22003537, -0.55113639],\n",
        "        #[-0.056351  ,  0.78391545]]), 'w_2': np.array([ 1.69519554, -1.57077622])}"
      ],
      "execution_count": 0,
      "outputs": []
    },
    {
      "cell_type": "code",
      "metadata": {
        "id": "QN8WR_xQWl57",
        "colab_type": "code",
        "colab": {
          "base_uri": "https://localhost:8080/",
          "height": 51
        },
        "outputId": "2433bd7f-b009-41d9-abe6-bb7a2a6d978e"
      },
      "source": [
        "params"
      ],
      "execution_count": 6,
      "outputs": [
        {
          "output_type": "execute_result",
          "data": {
            "text/plain": [
              "{'b_1': array([0., 0.]), 'b_2': 0, 'w_1': array([[0.4359949 , 0.02592623],\n",
              "        [0.54966248, 0.43532239]]), 'w_2': array([0.4203678 , 0.33033482])}"
            ]
          },
          "metadata": {
            "tags": []
          },
          "execution_count": 6
        }
      ]
    },
    {
      "cell_type": "code",
      "metadata": {
        "id": "l7aUlm7SWl6K",
        "colab_type": "code",
        "colab": {}
      },
      "source": [
        "def backprop(x, t, p):\n",
        "    \n",
        "    N = x.shape[0]\n",
        " \n",
        "    # forward pass\n",
        "    h_in = np.dot(x, p['w_1'].T) + p['b_1']\n",
        "    h_out = sigmoid(h_in)\n",
        "    y_in = np.dot(h_out, p['w_2'].T) + p['b_2']\n",
        "    y_out = sigmoid(y_in)\n",
        "    \n",
        "    # loss \n",
        "    # loss = (1/2)*np.sum((y_out - t)**2)    \n",
        "    loss = (1./N) * np.sum(-t * np.log(y_out) - (1 - t) * np.log(1 - y_out))\n",
        "    \n",
        "    # backprop\n",
        "    l_bar = 1\n",
        "    # yout_bar = y_out - t\n",
        "    # yout_bar = ((-t)/y_out) + ((1-t)/(1-y_out))   \n",
        "    yout_bar = (1./N) * (y_out - t)\n",
        "\n",
        "    yin_bar = yout_bar * sigmoid(y_in) * (1 - sigmoid(y_in))\n",
        "    b2_bar = np.dot(yin_bar.T, np.ones(N))\n",
        "    w2_bar = np.dot(yin_bar.T, h_out)\n",
        "    hout_bar = np.outer(yin_bar, p['w_2'])\n",
        "    hin_bar = hout_bar * sigmoid(h_in) * (1 - sigmoid(h_in))\n",
        "    b1_bar = np.dot(hin_bar.T, np.ones(N))\n",
        "    w1_bar = np.dot(hin_bar.T, x)\n",
        "\n",
        "    # Wrap our gradients in a dictionary.\n",
        "    grads = {}\n",
        "    grads['w_1'] = w1_bar\n",
        "    grads['w_2'] = w2_bar\n",
        "    grads['b_1'] = b1_bar\n",
        "    grads['b_2'] = b2_bar\n",
        "    \n",
        "    return grads, loss"
      ],
      "execution_count": 0,
      "outputs": []
    },
    {
      "cell_type": "code",
      "metadata": {
        "colab_type": "code",
        "id": "KciVTOXW_vlB",
        "outputId": "be6239e8-a945-4168-9812-eb9c15587929",
        "colab": {
          "base_uri": "https://localhost:8080/",
          "height": 34
        }
      },
      "source": [
        "\"\"\"\n",
        "num_steps = 20000\n",
        "alpha = 0.2\n",
        "cost_list=[]\n",
        "for step in range(num_steps):        \n",
        "    grads, loss = backprop(x, y,params)\n",
        "    for k in params:\n",
        "        params[k] -= alpha * grads[k]\n",
        "    cost_list.append(loss)\n",
        "\"\"\""
      ],
      "execution_count": 8,
      "outputs": [
        {
          "output_type": "execute_result",
          "data": {
            "text/plain": [
              "'\\nnum_steps = 20000\\nalpha = 0.2\\ncost_list=[]\\nfor step in range(num_steps):        \\n    grads, loss = backprop(x, y,params)\\n    for k in params:\\n        params[k] -= alpha * grads[k]\\n    cost_list.append(loss)\\n'"
            ]
          },
          "metadata": {
            "tags": []
          },
          "execution_count": 8
        }
      ]
    },
    {
      "cell_type": "code",
      "metadata": {
        "colab_type": "code",
        "id": "OygCMeEsJ7RJ",
        "colab": {}
      },
      "source": [
        "iterations = 0\n",
        "loss = 1\n",
        "cost_list=[]\n",
        "alpha = 0.3\n",
        "while loss > 0.01:\n",
        "    iterations+=1\n",
        "    grads, loss = backprop(x, y, params)\n",
        "    for k in params:\n",
        "        params[k] -= alpha * grads[k]\n",
        "    cost_list.append(loss)"
      ],
      "execution_count": 0,
      "outputs": []
    },
    {
      "cell_type": "code",
      "metadata": {
        "colab_type": "code",
        "id": "SEv3OIgCMa0A",
        "outputId": "0998defe-a853-48c9-c8d3-3c3fba6ab579",
        "colab": {
          "base_uri": "https://localhost:8080/",
          "height": 282
        }
      },
      "source": [
        "plt.plot(cost_list)"
      ],
      "execution_count": 10,
      "outputs": [
        {
          "output_type": "execute_result",
          "data": {
            "text/plain": [
              "[<matplotlib.lines.Line2D at 0x7f7124ad5240>]"
            ]
          },
          "metadata": {
            "tags": []
          },
          "execution_count": 10
        },
        {
          "output_type": "display_data",
          "data": {
            "image/png": "[encoded data removed]",
            "text/plain": [
              "<Figure size 432x288 with 1 Axes>"
            ]
          },
          "metadata": {
            "tags": []
          }
        }
      ]
    },
    {
      "cell_type": "code",
      "metadata": {
        "colab_type": "code",
        "id": "BKEcwu4kNwUs",
        "outputId": "d650b7b9-9b84-4994-b5d1-56c68362533b",
        "colab": {
          "base_uri": "https://localhost:8080/",
          "height": 102
        }
      },
      "source": [
        "params"
      ],
      "execution_count": 11,
      "outputs": [
        {
          "output_type": "execute_result",
          "data": {
            "text/plain": [
              "{'b_1': array([-7.5905812 , -3.05395555]),\n",
              " 'b_2': -4.960001920624812,\n",
              " 'w_1': array([[4.95096294, 4.94874687],\n",
              "        [6.78073753, 6.77199414]]),\n",
              " 'w_2': array([-11.29550268,  10.61182277])}"
            ]
          },
          "metadata": {
            "tags": []
          },
          "execution_count": 11
        }
      ]
    },
    {
      "cell_type": "code",
      "metadata": {
        "colab_type": "code",
        "id": "8IraoCSyJUoh",
        "colab": {}
      },
      "source": [
        "def forward(x, p):\n",
        "    h_in = np.dot(x,params['w_1'].T)  + params['b_1']\n",
        "    h_out = sigmoid(h_in)\n",
        "    y_in = np.dot(h_out,params['w_2'].T) + params['b_2']\n",
        "    y_out = sigmoid(y_in)\n",
        "    return y_out"
      ],
      "execution_count": 0,
      "outputs": []
    },
    {
      "cell_type": "code",
      "metadata": {
        "id": "vJITqSxCXWt9",
        "colab_type": "code",
        "colab": {
          "base_uri": "https://localhost:8080/",
          "height": 34
        },
        "outputId": "2e61c2c3-760c-4133-e2ba-ba8b45d87322"
      },
      "source": [
        "forward(x[0], params)"
      ],
      "execution_count": 13,
      "outputs": [
        {
          "output_type": "execute_result",
          "data": {
            "text/plain": [
              "0.011121684584022752"
            ]
          },
          "metadata": {
            "tags": []
          },
          "execution_count": 13
        }
      ]
    },
    {
      "cell_type": "code",
      "metadata": {
        "colab_type": "code",
        "id": "m2irwi-bJYNJ",
        "outputId": "10f32e35-817d-46db-aad4-9053538ced01",
        "colab": {
          "base_uri": "https://localhost:8080/",
          "height": 34
        }
      },
      "source": [
        "forward(x[1], params)"
      ],
      "execution_count": 14,
      "outputs": [
        {
          "output_type": "execute_result",
          "data": {
            "text/plain": [
              "0.9905212007408865"
            ]
          },
          "metadata": {
            "tags": []
          },
          "execution_count": 14
        }
      ]
    },
    {
      "cell_type": "code",
      "metadata": {
        "colab_type": "code",
        "id": "kcNgGkNAJdqZ",
        "outputId": "53e52871-b841-484b-e620-ec2bd9ec1822",
        "colab": {
          "base_uri": "https://localhost:8080/",
          "height": 34
        }
      },
      "source": [
        "forward(x[2], params)"
      ],
      "execution_count": 15,
      "outputs": [
        {
          "output_type": "execute_result",
          "data": {
            "text/plain": [
              "0.9905266746581891"
            ]
          },
          "metadata": {
            "tags": []
          },
          "execution_count": 15
        }
      ]
    },
    {
      "cell_type": "code",
      "metadata": {
        "colab_type": "code",
        "id": "xkPz3sP7JgFS",
        "outputId": "a05c8c70-16b0-4907-dabb-612144c62d00",
        "colab": {
          "base_uri": "https://localhost:8080/",
          "height": 34
        }
      },
      "source": [
        "forward(x[3], params)"
      ],
      "execution_count": 16,
      "outputs": [
        {
          "output_type": "execute_result",
          "data": {
            "text/plain": [
              "0.009725771931519142"
            ]
          },
          "metadata": {
            "tags": []
          },
          "execution_count": 16
        }
      ]
    }
  ]
}